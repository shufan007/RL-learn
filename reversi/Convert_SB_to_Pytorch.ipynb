{
 "cells": [
  {
   "cell_type": "markdown",
   "metadata": {
    "id": "lXEHgfQSusr7"
   },
   "source": [
    "## Convert Stable Baselines CnnPolicy to PyTorch"
   ]
  },
  {
   "cell_type": "markdown",
   "metadata": {
    "id": "2zSdny2wzgko"
   },
   "source": [
    "\n",
    "Github repo: https://github.com/hill-a/stable-baselines\n",
    "\n",
    "[Documentation](http://stable-baselines.readthedocs.io/)"
   ]
  },
  {
   "cell_type": "markdown",
   "metadata": {
    "id": "InuE7hyqukKU"
   },
   "source": [
    "### Install dependencies\n",
    "\n"
   ]
  },
  {
   "cell_type": "code",
   "execution_count": null,
   "metadata": {
    "id": "2FEMcbxD7PHY"
   },
   "outputs": [],
   "source": [
    "%tensorflow_version 1x"
   ]
  },
  {
   "cell_type": "code",
   "execution_count": null,
   "metadata": {
    "id": "btlVNp9wstjO"
   },
   "outputs": [],
   "source": [
    "!pip install stable-baselines --upgrade\n",
    "!git clone https://github.com/araffin/rl-baselines-zoo"
   ]
  },
  {
   "cell_type": "code",
   "execution_count": null,
   "metadata": {
    "colab": {
     "base_uri": "https://localhost:8080/",
     "height": 35
    },
    "id": "K82Kp7qps4t8",
    "outputId": "ff71ba2a-bb76-4b66-8e2a-a963fef6bc4c"
   },
   "outputs": [
    {
     "name": "stdout",
     "output_type": "stream",
     "text": [
      "/content/rl-baselines-zoo\n"
     ]
    }
   ],
   "source": [
    "%cd /content/rl-baselines-zoo/"
   ]
  },
  {
   "cell_type": "markdown",
   "metadata": {
    "id": "T4r91j93uoWz"
   },
   "source": [
    "### Import stable baselines and co"
   ]
  },
  {
   "cell_type": "code",
   "execution_count": 1,
   "metadata": {
    "collapsed": true,
    "id": "KePyuAlis5_E"
   },
   "outputs": [
    {
     "ename": "ModuleNotFoundError",
     "evalue": "No module named 'stable_baselines3.common.cmd_util'",
     "output_type": "error",
     "traceback": [
      "\u001b[1;31m---------------------------------------------------------------------------\u001b[0m",
      "\u001b[1;31mModuleNotFoundError\u001b[0m                       Traceback (most recent call last)",
      "\u001b[1;32m<ipython-input-1-6e5a6380adea>\u001b[0m in \u001b[0;36m<module>\u001b[1;34m\u001b[0m\n\u001b[0;32m      6\u001b[0m \u001b[1;32mfrom\u001b[0m \u001b[0mstable_baselines3\u001b[0m \u001b[1;32mimport\u001b[0m \u001b[0mPPO\u001b[0m\u001b[1;33m\u001b[0m\u001b[1;33m\u001b[0m\u001b[0m\n\u001b[0;32m      7\u001b[0m \u001b[1;32mfrom\u001b[0m \u001b[0mstable_baselines3\u001b[0m\u001b[1;33m.\u001b[0m\u001b[0mcommon\u001b[0m\u001b[1;33m.\u001b[0m\u001b[0mvec_env\u001b[0m \u001b[1;32mimport\u001b[0m \u001b[0mVecFrameStack\u001b[0m\u001b[1;33m\u001b[0m\u001b[1;33m\u001b[0m\u001b[0m\n\u001b[1;32m----> 8\u001b[1;33m \u001b[1;32mfrom\u001b[0m \u001b[0mstable_baselines3\u001b[0m\u001b[1;33m.\u001b[0m\u001b[0mcommon\u001b[0m\u001b[1;33m.\u001b[0m\u001b[0mcmd_util\u001b[0m \u001b[1;32mimport\u001b[0m \u001b[0mmake_atari_env\u001b[0m\u001b[1;33m\u001b[0m\u001b[1;33m\u001b[0m\u001b[0m\n\u001b[0m",
      "\u001b[1;31mModuleNotFoundError\u001b[0m: No module named 'stable_baselines3.common.cmd_util'"
     ]
    }
   ],
   "source": [
    "import gym\n",
    "import torch as th\n",
    "import torch.nn as nn\n",
    "import numpy as np\n",
    "\n",
    "from stable_baselines3 import PPO\n",
    "from stable_baselines3.common.vec_env import VecFrameStack\n",
    "from stable_baselines3.common.cmd_util import make_atari_env"
   ]
  },
  {
   "cell_type": "markdown",
   "metadata": {
    "id": "EWs1sLGjt4Ey"
   },
   "source": [
    "### Load saved policy"
   ]
  },
  {
   "cell_type": "code",
   "execution_count": null,
   "metadata": {
    "id": "QreXQLBBs9nj"
   },
   "outputs": [],
   "source": [
    "model_path = \"trained_agents/ppo2/{}.pkl\".format('BreakoutNoFrameskip-v4')\n",
    "\n",
    "baselines_cnn_model = PPO.load(model_path, verbose=2)\n",
    "\n",
    "for key, value in baselines_cnn_model.get_parameters().items():\n",
    "    print(key, value.shape)"
   ]
  },
  {
   "cell_type": "markdown",
   "metadata": {
    "id": "7pSZkL3xt7Ke"
   },
   "source": [
    "### Create Pytorch model"
   ]
  },
  {
   "cell_type": "code",
   "execution_count": null,
   "metadata": {
    "id": "FIRaYdm9tCjE"
   },
   "outputs": [],
   "source": [
    "class PyTorchCnnPolicy(nn.Module):\n",
    "    def __init__(self):\n",
    "        super(PyTorchCnnPolicy, self).__init__()\n",
    "        self.conv1 = nn.Conv2d(in_channels=4, out_channels=32, kernel_size=8, stride=4, padding=0, bias=True)\n",
    "        self.conv2 = nn.Conv2d(in_channels=32, out_channels=64, kernel_size=4, stride=2, padding=0, bias=True)\n",
    "        self.conv3 = nn.Conv2d(in_channels=64, out_channels=64, kernel_size=3, stride=1, padding=0, bias=True)\n",
    "        self.fc1 = nn.Linear(3136, 512)\n",
    "        self.fc2 = nn.Linear(512, 4)\n",
    "        self.relu = nn.ReLU()\n",
    "        self.out_activ = nn.Softmax(dim=1)\n",
    "\n",
    "    def forward(self, x):\n",
    "        x = self.relu(self.conv1(x))\n",
    "        x = self.relu(self.conv2(x))\n",
    "        x = self.relu(self.conv3(x))\n",
    "        # shape before flattening\n",
    "        # tf: (?, 7, 7, 64)\n",
    "        # pytorch: [1, 64, 7, 7]\n",
    "        x = x.permute(0, 2, 3, 1).contiguous()\n",
    "        x = x.view(x.size(0), -1)\n",
    "        x = self.relu(self.fc1(x))\n",
    "        x = self.fc2(x)\n",
    "        x = self.out_activ(x)\n",
    "        return x"
   ]
  },
  {
   "cell_type": "markdown",
   "metadata": {
    "id": "NaDC3mT7t-0X"
   },
   "source": [
    "### Convert weights from tensorflow to pytorch"
   ]
  },
  {
   "cell_type": "code",
   "execution_count": null,
   "metadata": {
    "id": "eXlo2wl5tFQP"
   },
   "outputs": [],
   "source": [
    "def copy_cnn_weights(baselines_model):\n",
    "    torch_cnn = PyTorchCnnPolicy()\n",
    "    model_params = baselines_model.get_parameters()\n",
    "    # Get only the policy parameters\n",
    "    policy_keys = [key for key in model_params.keys() if \"pi\" in key or \"c\" in key]\n",
    "    policy_params = [model_params[key] for key in policy_keys]\n",
    "\n",
    "    for (th_key, pytorch_param), key, policy_param in zip(torch_cnn.named_parameters(), policy_keys, policy_params):\n",
    "        param = policy_param.copy()\n",
    "        # Copy parameters from stable baselines model to pytorch model\n",
    "\n",
    "        # Conv layer\n",
    "        if len(param.shape) == 4:\n",
    "          # https://gist.github.com/chirag1992m/4c1f2cb27d7c138a4dc76aeddfe940c2\n",
    "          # Tensorflow 2D Convolutional layer: height * width * input channels * output channels\n",
    "          # PyTorch 2D Convolutional layer: output channels * input channels * height * width\n",
    "          param = np.transpose(param, (3, 2, 0, 1))\n",
    "\n",
    "        # weight of fully connected layer\n",
    "        if len(param.shape) == 2:\n",
    "            param = param.T\n",
    "\n",
    "        # bias\n",
    "        if 'b' in key:\n",
    "            param = param.squeeze()\n",
    "\n",
    "        param = th.from_numpy(param)\n",
    "        pytorch_param.data.copy_(param.data.clone())\n",
    "\n",
    "    return torch_cnn"
   ]
  },
  {
   "cell_type": "markdown",
   "metadata": {
    "id": "NUowJLiut0RJ"
   },
   "source": [
    "### Convert images to torch format"
   ]
  },
  {
   "cell_type": "code",
   "execution_count": null,
   "metadata": {
    "id": "3ldnIZdwtK_A"
   },
   "outputs": [],
   "source": [
    "def obs_to_torch(obs):\n",
    "    # TF: NHWC\n",
    "    # PyTorch: NCHW\n",
    "    # https://discuss.pytorch.org/t/dimensions-of-an-input-image/19439\n",
    "    obs = np.transpose(obs, (0, 3, 1, 2))\n",
    "    # Normalize\n",
    "    obs = obs / 255.0\n",
    "    obs = th.tensor(obs).float()\n",
    "    return obs"
   ]
  },
  {
   "cell_type": "markdown",
   "metadata": {
    "id": "VlqMs4K9uKml"
   },
   "source": [
    "### Sanity check with one observation"
   ]
  },
  {
   "cell_type": "code",
   "execution_count": null,
   "metadata": {
    "id": "YzWZvlkWtMnP"
   },
   "outputs": [],
   "source": [
    "th_model = copy_cnn_weights(baselines_cnn_model)"
   ]
  },
  {
   "cell_type": "code",
   "execution_count": null,
   "metadata": {
    "id": "SCcvfcVXtOHO"
   },
   "outputs": [],
   "source": [
    "env = make_atari_env('BreakoutNoFrameskip-v4', num_env=1, seed=0)\n",
    "# Frame-stacking with 4 frames\n",
    "env = VecFrameStack(env, n_stack=4)"
   ]
  },
  {
   "cell_type": "code",
   "execution_count": null,
   "metadata": {
    "id": "0JdG5TmntPlI"
   },
   "outputs": [],
   "source": [
    "obs = env.reset()"
   ]
  },
  {
   "cell_type": "code",
   "execution_count": null,
   "metadata": {
    "colab": {
     "base_uri": "https://localhost:8080/",
     "height": 53
    },
    "id": "CnExpWPbtQuH",
    "outputId": "47ddfca5-9a9e-44a5-ea9d-8d523ae146ec"
   },
   "outputs": [
    {
     "data": {
      "text/plain": [
       "array([[9.9991703e-01, 7.7686826e-05, 3.3082727e-06, 1.9453785e-06]],\n",
       "      dtype=float32)"
      ]
     },
     "execution_count": 11,
     "metadata": {
      "tags": []
     },
     "output_type": "execute_result"
    }
   ],
   "source": [
    "baselines_cnn_model.action_probability(obs)"
   ]
  },
  {
   "cell_type": "code",
   "execution_count": null,
   "metadata": {
    "colab": {
     "base_uri": "https://localhost:8080/",
     "height": 53
    },
    "id": "MWds63NctamA",
    "outputId": "f5cb7092-8819-4135-e6fa-48d67be2bbe9"
   },
   "outputs": [
    {
     "data": {
      "text/plain": [
       "tensor([[9.9992e-01, 7.7687e-05, 3.3083e-06, 1.9454e-06]],\n",
       "       grad_fn=<SoftmaxBackward>)"
      ]
     },
     "execution_count": 12,
     "metadata": {
      "tags": []
     },
     "output_type": "execute_result"
    }
   ],
   "source": [
    "th_model(obs_to_torch(obs))"
   ]
  },
  {
   "cell_type": "markdown",
   "metadata": {
    "id": "PrBhZMGrttL_"
   },
   "source": [
    "### Test with trained model and same random seed"
   ]
  },
  {
   "cell_type": "code",
   "execution_count": null,
   "metadata": {
    "colab": {
     "base_uri": "https://localhost:8080/",
     "height": 35
    },
    "id": "lv_3bHlZtSA9",
    "outputId": "cf8bbc5a-f248-4a5f-961c-cbdbc0d05ab9"
   },
   "outputs": [
    {
     "name": "stdout",
     "output_type": "stream",
     "text": [
      "[87.]\n"
     ]
    }
   ],
   "source": [
    "env = make_atari_env('BreakoutNoFrameskip-v4', num_env=1, seed=1)\n",
    "# Frame-stacking with 4 frames\n",
    "env = VecFrameStack(env, n_stack=4)\n",
    "\n",
    "episode_reward = 0\n",
    "done = False\n",
    "obs = env.reset()\n",
    "while not done:\n",
    "    action = th.argmax(th_model(obs_to_torch(obs))).item()\n",
    "    #action = env.action_space.sample()\n",
    "    obs, reward, done, _ = env.step([action])\n",
    "    episode_reward += reward\n",
    "\n",
    "print(episode_reward)"
   ]
  },
  {
   "cell_type": "code",
   "execution_count": null,
   "metadata": {
    "colab": {
     "base_uri": "https://localhost:8080/",
     "height": 35
    },
    "id": "eya6tIEntfON",
    "outputId": "23ec8685-ec0d-4d8c-8931-e2033dac84f9"
   },
   "outputs": [
    {
     "name": "stdout",
     "output_type": "stream",
     "text": [
      "[87.]\n"
     ]
    }
   ],
   "source": [
    "env = make_atari_env('BreakoutNoFrameskip-v4', num_env=1, seed=1)\n",
    "# Frame-stacking with 4 frames\n",
    "env = VecFrameStack(env, n_stack=4)\n",
    "\n",
    "episode_reward = 0\n",
    "done = False\n",
    "obs = env.reset()\n",
    "while not done:\n",
    "    action, _ = baselines_cnn_model.predict(obs, deterministic=True)\n",
    "    obs, reward, done, _ = env.step(action)\n",
    "    episode_reward += reward\n",
    "\n",
    "print(episode_reward)"
   ]
  },
  {
   "cell_type": "markdown",
   "metadata": {
    "id": "-1TC4lf_thFt"
   },
   "source": [
    "### Sanity check: random agent"
   ]
  },
  {
   "cell_type": "code",
   "execution_count": null,
   "metadata": {
    "colab": {
     "base_uri": "https://localhost:8080/",
     "height": 35
    },
    "id": "1rbHm745tgaT",
    "outputId": "d18ec2a3-fdbe-45fc-d921-20209a3fe108"
   },
   "outputs": [
    {
     "name": "stdout",
     "output_type": "stream",
     "text": [
      "[0.]\n"
     ]
    }
   ],
   "source": [
    "env = make_atari_env('BreakoutNoFrameskip-v4', num_env=1, seed=1)\n",
    "# Frame-stacking with 4 frames\n",
    "env = VecFrameStack(env, n_stack=4)\n",
    "\n",
    "episode_reward = 0\n",
    "done = False\n",
    "obs = env.reset()\n",
    "while not done:\n",
    "    action = env.action_space.sample()\n",
    "    obs, reward, done, _ = env.step([action])\n",
    "    episode_reward += reward\n",
    "\n",
    "print(episode_reward)"
   ]
  },
  {
   "cell_type": "code",
   "execution_count": null,
   "metadata": {
    "id": "NFK9lYLdtqGp"
   },
   "outputs": [],
   "source": []
  }
 ],
 "metadata": {
  "colab": {
   "provenance": []
  },
  "kernelspec": {
   "display_name": "Python 3",
   "language": "python",
   "name": "python3"
  },
  "language_info": {
   "codemirror_mode": {
    "name": "ipython",
    "version": 3
   },
   "file_extension": ".py",
   "mimetype": "text/x-python",
   "name": "python",
   "nbconvert_exporter": "python",
   "pygments_lexer": "ipython3",
   "version": "3.8.8"
  }
 },
 "nbformat": 4,
 "nbformat_minor": 1
}
